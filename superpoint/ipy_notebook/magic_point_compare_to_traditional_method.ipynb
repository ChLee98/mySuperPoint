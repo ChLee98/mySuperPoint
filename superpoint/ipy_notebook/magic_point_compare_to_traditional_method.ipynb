{
 "cells": [
  {
   "cell_type": "code",
   "execution_count": 1,
   "metadata": {},
   "outputs": [],
   "source": [
    "import sys\n",
    "\n",
    "sys.path.append('/home/luo3300612/Workspace/PycharmWS/mySuperPoint/superpoint/model')\n",
    "\n",
    "import torch\n",
    "import matplotlib.pyplot as plt \n",
    "import torch.nn as nn\n",
    "from utils import SuperPointFrontend\n",
    "from data import get_test\n",
    "import numpy as np\n",
    "from dataset import point2label\n",
    "from tqdm import tqdm"
   ]
  },
  {
   "cell_type": "code",
   "execution_count": 2,
   "metadata": {},
   "outputs": [],
   "source": [
    "net = torch.load('/home/luo3300612/Workspace/PycharmWS/mySuperPoint/superpoint/result/epoch120',map_location='cpu')"
   ]
  },
  {
   "cell_type": "code",
   "execution_count": 3,
   "metadata": {},
   "outputs": [],
   "source": [
    "test_data = get_test({\"SyntheticData\":{\"only_point\":True}},loader=False)\n",
    "sample_index = np.random.randint(0,4500,(1000,))\n",
    "test_sample = [test_data[i] for i in sample_index]"
   ]
  },
  {
   "cell_type": "code",
   "execution_count": 4,
   "metadata": {},
   "outputs": [],
   "source": [
    "def pr_pts(heat_map,label,positive=True):\n",
    "    if positive:\n",
    "        index = list(reversed(np.argsort(heat_map,axis=None).tolist()))\n",
    "    else:\n",
    "        index = np.argsort(heat_map,axis=None).tolist()\n",
    "        label = np.logical_not(label)\n",
    "    \n",
    "    AP_positive = 0\n",
    "    pred_label = np.zeros_like(label,dtype=int)\n",
    "    \n",
    "    pr_curve = np.zeros((heat_map.shape[0]*heat_map.shape[1]+2,2))\n",
    "    pr_curve[0,0] = 0\n",
    "    pr_curve[0,1] = 1\n",
    "    pr_curve[-1,0] = 1\n",
    "    pr_curve[-1,1] = 0\n",
    "    \n",
    "    \n",
    "    pred_positive_sample_num = 0\n",
    "    precision_pts = []\n",
    "    for i in range(len(index)):\n",
    "        r,c = one2two(index[i],*heat_map.shape)\n",
    "        pred_label[r,c] = 1\n",
    "\n",
    "        pred_positive_sample_num += 1\n",
    "        positive_sample_num = np.sum(label)\n",
    "        \n",
    "        if positive_sample_num == 0:  # 剪枝            \n",
    "            for j in range(i,len(index)):\n",
    "                pr_curve[j+1,0] = 1  # recall = 1\n",
    "                pr_curve[j+1,1] = 0  # precision = 0\n",
    "            precision_pts.append([0,1])\n",
    "            # precision_pts.append([1,0])\n",
    "            break\n",
    "        else:\n",
    "            TP = np.sum(np.logical_and(pred_label,label))\n",
    "            precision = TP/pred_positive_sample_num\n",
    "            recall = TP/positive_sample_num\n",
    "            \n",
    "            if recall != 0 and recall != pr_curve[i,0]:\n",
    "                precision_pts.append([recall,precision])\n",
    "            \n",
    "            pr_curve[i+1,0] = recall\n",
    "            pr_curve[i+1,1] = precision\n",
    "    return pr_curve,np.array(precision_pts)\n",
    "            \n",
    "    \n",
    "def one2two(index,row,col):\n",
    "    r = index//col\n",
    "    c = index%col\n",
    "    return r,c\n",
    "\n",
    "\n",
    "    "
   ]
  },
  {
   "cell_type": "code",
   "execution_count": 5,
   "metadata": {},
   "outputs": [],
   "source": [
    "from utils import output2points"
   ]
  },
  {
   "cell_type": "code",
   "execution_count": 6,
   "metadata": {},
   "outputs": [],
   "source": [
    "def get_heatmap(sample):\n",
    "    img = sample['img']\n",
    "    pts = sample['pt']\n",
    "    img_tensor = torch.tensor(img)\n",
    "    img_tensor = img_tensor.view((1,1,*img.shape))\n",
    "    output = net(img_tensor)\n",
    "    output = output.squeeze()\n",
    "    output = np.exp(output.detach().numpy())  # Softmax.\n",
    "    output = output / (np.sum(output, axis=0) + .00001)  # Should sum to 1.\n",
    "    output = output[:-1, :, :]\n",
    "    output = output.transpose(1, 2, 0)\n",
    "    output = output.reshape((15, 20, 8, 8))\n",
    "    output = output.transpose(0, 2, 1, 3)\n",
    "    heatmap = output.reshape(120, 160)\n",
    "    return heatmap\n",
    "                                 \n",
    "def visulize_pr(sample):\n",
    "    \"\"\"\n",
    "    visulize p-r curve of an img\n",
    "    \"\"\"\n",
    "    img = sample['img']\n",
    "    pts = sample['pt']\n",
    "    label = point2label(pts,binary=True)\n",
    "    heatmap = get_heatmap(sample)\n",
    "                                 \n",
    "    pts,precision_pts= pr_pts(heatmap,label,True)\n",
    "\n",
    "    plt.plot(pts[:,0],pts[:,1])\n",
    "    plt.scatter(precision_pts[:,0],precision_pts[:,1],color='r')\n",
    "    plt.show()\n",
    "    plt.imshow(img)\n",
    "    plt.show()\n",
    "                                 \n",
    "def mAP(sample):\n",
    "    label = point2label(sample['pt'],binary=True)\n",
    "    heatmap = get_heatmap(sample)\n",
    "    pts_pos,precision_pts_pos = pr_pts(heatmap,label,True)\n",
    "    pts_ne,precision_ne = pr_pts(heatmap,label,False)\n",
    "    \n",
    "    mAP = (np.mean(precision_pts_pos[:,1]) + np.mean(precision_ne[:,1]))/2\n",
    "    return mAP"
   ]
  },
  {
   "cell_type": "code",
   "execution_count": 112,
   "metadata": {},
   "outputs": [
    {
     "name": "stderr",
     "output_type": "stream",
     "text": [
      "100%|██████████| 1000/1000 [32:45<00:00,  1.98s/it]"
     ]
    },
    {
     "name": "stdout",
     "output_type": "stream",
     "text": [
      "AVG. map = 0.8086\n"
     ]
    },
    {
     "name": "stderr",
     "output_type": "stream",
     "text": [
      "\n"
     ]
    }
   ],
   "source": [
    "from tqdm import tqdm\n",
    "mAP_sum = 0\n",
    "for sample in tqdm(test_sample):\n",
    "    mAP_sum += mAP(sample)\n",
    "print(f\"AVG. map = {mAP_sum/1000:.4f}\")"
   ]
  },
  {
   "cell_type": "code",
   "execution_count": 117,
   "metadata": {},
   "outputs": [
    {
     "name": "stderr",
     "output_type": "stream",
     "text": [
      "100%|██████████| 1000/1000 [32:13<00:00,  2.01s/it]"
     ]
    },
    {
     "name": "stdout",
     "output_type": "stream",
     "text": [
      "AVG. map = 0.8696\n"
     ]
    },
    {
     "name": "stderr",
     "output_type": "stream",
     "text": [
      "\n"
     ]
    }
   ],
   "source": [
    "from tqdm import tqdm\n",
    "mAP_sum = 0\n",
    "for sample in tqdm(test_sample):\n",
    "    mAP_sum += mAP(sample)\n",
    "print(f\"AVG. map = {mAP_sum/1000:.4f}\")"
   ]
  },
  {
   "cell_type": "code",
   "execution_count": 8,
   "metadata": {},
   "outputs": [],
   "source": [
    "def mAP_fix(test_sample):\n",
    "        \n",
    "    conf_list = []\n",
    "    label_list = []\n",
    "    \n",
    "    for sample in tqdm(test_sample):\n",
    "        heatmap = list(get_heatmap(sample).reshape((-1,)))\n",
    "        label = list(point2label(sample['pt'],binary=True).reshape((-1,)))\n",
    "        conf_list += heatmap\n",
    "        label_list += label\n",
    "    \n",
    "    conf_list = np.array(conf_list)\n",
    "    label = np.array(label_list)\n",
    "    \n",
    "    index = list(reversed(np.argsort(conf_list).tolist()))\n",
    "    \n",
    "    pred_label = np.zeros_like(conf_list)\n",
    "    \n",
    "    pred_positive_sample_num = 0\n",
    "    precision_pts = []\n",
    "    pr_curve = np.zeros((len(index)+2,2))\n",
    "    \n",
    "    pr_curve[0,0] = 0\n",
    "    pr_curve[0,1] = 1\n",
    "    pr_curve[-1,0] = 1\n",
    "    pr_curve[-1,1] = 0\n",
    "    \n",
    "    TP = 0\n",
    "    positive_sample_num = np.sum(label)\n",
    "    print(len(index))\n",
    "    for i in tqdm(range(len(index))):\n",
    "        \n",
    "        ind = index[i]\n",
    "        \n",
    "        pred_label[ind] = 1\n",
    "        \n",
    "        pred_positive_sample_num += 1\n",
    "        \n",
    "        \n",
    "        if label[ind] == 1:\n",
    "            TP += 1\n",
    "        precision = TP/pred_positive_sample_num\n",
    "        recall = TP/positive_sample_num\n",
    "        \n",
    "        if recall != 0 and recall != pr_curve[i,0]:\n",
    "            precision_pts.append([recall,precision])\n",
    "\n",
    "        pr_curve[i+1,0] = recall\n",
    "        pr_curve[i+1,1] = precision\n",
    "    \n",
    "    return pr_curve,np.array(precision_pts)\n"
   ]
  },
  {
   "cell_type": "code",
   "execution_count": 9,
   "metadata": {},
   "outputs": [
    {
     "name": "stderr",
     "output_type": "stream",
     "text": [
      "100%|██████████| 1000/1000 [00:33<00:00, 29.98it/s]\n",
      "  0%|          | 248/19200000 [00:00<4:14:48, 1255.82it/s]"
     ]
    },
    {
     "name": "stdout",
     "output_type": "stream",
     "text": [
      "19200000\n"
     ]
    },
    {
     "name": "stderr",
     "output_type": "stream",
     "text": [
      "100%|██████████| 19200000/19200000 [00:27<00:00, 704725.78it/s]\n"
     ]
    }
   ],
   "source": [
    "pr_curve,precision_pts = mAP_fix(test_sample)"
   ]
  },
  {
   "cell_type": "code",
   "execution_count": 10,
   "metadata": {},
   "outputs": [],
   "source": [
    "np.save(\"pr_curve.npy\",pr_curve)\n",
    "np.save(\"precision_pts.npy\",precision_pts)"
   ]
  },
  {
   "cell_type": "code",
   "execution_count": 21,
   "metadata": {},
   "outputs": [],
   "source": [
    "pr_curve = np.load(\"pr_curve.npy\")"
   ]
  },
  {
   "cell_type": "code",
   "execution_count": 30,
   "metadata": {},
   "outputs": [
    {
     "data": {
      "text/plain": [
       "(19200002, 2)"
      ]
     },
     "execution_count": 30,
     "metadata": {},
     "output_type": "execute_result"
    }
   ],
   "source": [
    "pr_curve.shape"
   ]
  },
  {
   "cell_type": "code",
   "execution_count": 38,
   "metadata": {},
   "outputs": [
    {
     "data": {
      "text/plain": [
       "0.9940089865202196"
      ]
     },
     "execution_count": 38,
     "metadata": {},
     "output_type": "execute_result"
    }
   ],
   "source": [
    "pr_curve[6,0]"
   ]
  },
  {
   "cell_type": "code",
   "execution_count": 27,
   "metadata": {},
   "outputs": [
    {
     "name": "stdout",
     "output_type": "stream",
     "text": [
      "(19200002, 2)\n"
     ]
    }
   ],
   "source": [
    "print(pr_curve.shape)"
   ]
  },
  {
   "cell_type": "code",
   "execution_count": 21,
   "metadata": {},
   "outputs": [
    {
     "data": {
      "image/png": "[encoded data removed]",
      "text/plain": [
       "<Figure size 640x480 with 1 Axes>"
      ]
     },
     "metadata": {},
     "output_type": "display_data"
    }
   ],
   "source": [
    "import matplotlib\n",
    "matplotlib.rcParams['agg.path.chunksize'] = 1920000200000000\n",
    "matplotlib.rcParams.update( matplotlib.rc_params() )\n",
    "plt.plot(pr_curve[:,0],pr_curve[:,1])\n",
    "plt.scatter(precision_pts[:,0],precision_pts[:,1],color='r')\n",
    "plt.show()"
   ]
  },
  {
   "cell_type": "code",
   "execution_count": 7,
   "metadata": {},
   "outputs": [],
   "source": [
    "def mAP_final(test_sample):\n",
    "       \n",
    "    epsilon = 4\n",
    "    \n",
    "    conf_list = []\n",
    "    label_list = []\n",
    "    mask_list = []\n",
    "    \n",
    "    for sample in tqdm(test_sample):\n",
    "        heatmap = list(get_heatmap(sample).reshape((-1,)))\n",
    "        \n",
    "        pts = sample['pt'].astype(int)\n",
    "        label = point2label(pts,binary=True)\n",
    "        \n",
    "        label_mask = label.copy()\n",
    "        \n",
    "        for point in pts:\n",
    "            x,y = point\n",
    "            label_mask[max(x-epsilon,0):min(x+epsilon,label.shape[0]),max(y-epsilon,0):min(y+epsilon,label.shape[1])] = 1\n",
    "        \n",
    "        label = list(label.reshape((-1,1)))\n",
    "        label_mask = list(label_mask.reshape((-1,1)))\n",
    "        \n",
    "        conf_list += heatmap\n",
    "        label_list += label\n",
    "        mask_list += label_mask\n",
    "    \n",
    "    conf_list = np.array(conf_list)\n",
    "    label = np.array(label_list)\n",
    "    label_mask = np.array(mask_list)\n",
    "    \n",
    "    index = list(reversed(np.argsort(conf_list).tolist()))\n",
    "    \n",
    "    pred_label = np.zeros_like(conf_list)\n",
    "    \n",
    "    pred_positive_sample_num = 0\n",
    "    precision_pts = []\n",
    "    pr_curve = np.zeros((len(index)+2,2))\n",
    "    \n",
    "    pr_curve[0,0] = 0\n",
    "    pr_curve[0,1] = 1\n",
    "    pr_curve[-1,0] = 1\n",
    "    pr_curve[-1,1] = 0\n",
    "    \n",
    "    TP = 0\n",
    "    positive_sample_num = np.sum(label)\n",
    "    print(len(index))\n",
    "    for i in tqdm(range(len(index))):\n",
    "        \n",
    "        ind = index[i]\n",
    "        \n",
    "        pred_label[ind] = 1\n",
    "        \n",
    "        pred_positive_sample_num += 1\n",
    "        \n",
    "        \n",
    "        if label[ind] == 1:\n",
    "            TP += 1\n",
    "        elif  label_mask[ind] == 1:\n",
    "            TP += 1\n",
    "            positive_sample_num += 1\n",
    "\n",
    "\n",
    "         \n",
    "\n",
    "        precision = TP/pred_positive_sample_num\n",
    "        recall = TP/positive_sample_num\n",
    "        \n",
    "        if recall != 0 and recall != pr_curve[i,0]:\n",
    "            precision_pts.append([recall,precision])\n",
    "\n",
    "        pr_curve[i+1,0] = recall\n",
    "        pr_curve[i+1,1] = precision\n",
    "    \n",
    "    return pr_curve,np.array(precision_pts)\n"
   ]
  },
  {
   "cell_type": "code",
   "execution_count": 8,
   "metadata": {},
   "outputs": [
    {
     "name": "stderr",
     "output_type": "stream",
     "text": [
      "100%|██████████| 1000/1000 [00:36<00:00, 27.28it/s]\n",
      "  0%|          | 0/19200000 [00:00<?, ?it/s]"
     ]
    },
    {
     "name": "stdout",
     "output_type": "stream",
     "text": [
      "19200000\n"
     ]
    },
    {
     "name": "stderr",
     "output_type": "stream",
     "text": [
      "100%|██████████| 19200000/19200000 [01:04<00:00, 295486.01it/s]\n"
     ]
    }
   ],
   "source": [
    "pr_curve,precision_pts = mAP_final(test_sample)"
   ]
  },
  {
   "cell_type": "code",
   "execution_count": 10,
   "metadata": {},
   "outputs": [],
   "source": [
    "np.save(\"pr_curve.npy\",pr_curve)\n",
    "np.save(\"precision_pts.npy\",precision_pts)"
   ]
  },
  {
   "cell_type": "code",
   "execution_count": 9,
   "metadata": {},
   "outputs": [
    {
     "data": {
      "image/png": "[encoded data removed]",
      "text/plain": [
       "<Figure size 640x480 with 1 Axes>"
      ]
     },
     "metadata": {},
     "output_type": "display_data"
    }
   ],
   "source": [
    "import matplotlib\n",
    "matplotlib.rcParams['agg.path.chunksize'] = 1920000200000000\n",
    "matplotlib.rcParams.update( matplotlib.rc_params() )\n",
    "plt.plot(pr_curve[:,0],pr_curve[:,1])\n",
    "plt.scatter(precision_pts[:,0],precision_pts[:,1],color='r')\n",
    "plt.show()"
   ]
  },
  {
   "cell_type": "code",
   "execution_count": 11,
   "metadata": {},
   "outputs": [
    {
     "name": "stdout",
     "output_type": "stream",
     "text": [
      "0.06039093713881635\n"
     ]
    }
   ],
   "source": [
    "print(np.mean(precision_pts[:,1]))"
   ]
  },
  {
   "cell_type": "code",
   "execution_count": 14,
   "metadata": {},
   "outputs": [
    {
     "name": "stdout",
     "output_type": "stream",
     "text": [
      "0.5441141390297709\n"
     ]
    }
   ],
   "source": [
    "precision_pts=np.array(precision_pts)\n",
    "print(np.mean(precision_pts[:,1]))"
   ]
  },
  {
   "cell_type": "code",
   "execution_count": 7,
   "metadata": {},
   "outputs": [],
   "source": [
    "def mAP_final(test_sample):\n",
    "       \n",
    "    epsilon = 4\n",
    "    \n",
    "    conf_list = []\n",
    "    label_list = []\n",
    "    mask_list = []\n",
    "    index_map_list = []\n",
    "    \n",
    "    for sample in tqdm(test_sample):\n",
    "        \n",
    "        pts = sample['pt'].astype(int)\n",
    "        label = point2label(pts,binary=True)\n",
    "        \n",
    "        label_mask = label.copy()\n",
    "        \n",
    "        index_map = np.zeros_like(label)\n",
    "# check index map code        \n",
    "#         x = 0\n",
    "#         y = 0\n",
    "        for point in pts:\n",
    "            x,y = point\n",
    "            label_mask[max(x-epsilon,0):min(x+epsilon,label.shape[0]),max(y-epsilon,0):min(y+epsilon,label.shape[1])] = 1\n",
    "            index_map[max(x-epsilon,0):min(x+epsilon,label.shape[0]),max(y-epsilon,0):min(y+epsilon,label.shape[1])] = x*160+y+len(label_list)\n",
    "        \n",
    "        heatmap = get_heatmap(sample)\n",
    "# check index map code\n",
    "#         if pts.shape[0] !=0:\n",
    "#             try:\n",
    "#                 assert heatmap[x,y] == tmp[index_map[x-1,y-1]]\n",
    "#                 print(\"correct\")\n",
    "#             except AssertionError:\n",
    "#                 print(f\"{heatmap[x,y]}!={tmp[index_map[x-1,y-1]]},\\nwhen index_map[{x-1},{y-1}]=={index_map[x-1,y-1]}\")\n",
    "#                 print(\"where\",np.where(tmp==heatmap[x,y]))\n",
    "#                 raise\n",
    "        heatmap = list(heatmap.reshape((-1,)))\n",
    "        label = list(label.reshape((-1,)))\n",
    "        label_mask = list(label_mask.reshape((-1,)))\n",
    "        index_map = list(index_map.reshape((-1,)))\n",
    "        \n",
    "        conf_list += heatmap\n",
    "        label_list += label\n",
    "        mask_list += label_mask\n",
    "        index_map_list += index_map\n",
    "        \n",
    "    \n",
    "    conf_list = np.array(conf_list)\n",
    "    label = np.array(label_list)\n",
    "    label_mask = np.array(mask_list)\n",
    "    index_map = np.array(index_map_list)\n",
    "    \n",
    "    index = list(reversed(np.argsort(conf_list).tolist()))\n",
    "        \n",
    "    pred_positive_sample_num = 0\n",
    "    precision_pts = []\n",
    "    pr_curve = np.zeros((len(index)+2,2))\n",
    "    \n",
    "    pr_curve[0,0] = 0\n",
    "    pr_curve[0,1] = 1\n",
    "    pr_curve[-1,0] = 1\n",
    "    pr_curve[-1,1] = 0\n",
    "    \n",
    "    TP = 0\n",
    "    positive_sample_num = np.sum(label)\n",
    "    pred_label = np.zeros_like(conf_list)\n",
    "\n",
    "    for i in tqdm(range(len(index))):\n",
    "        \n",
    "        ind = index[i]\n",
    "#         if label[ind] == 1:\n",
    "#             TP += 1\n",
    "#         elif  label_mask[ind] == 1:\n",
    "#             TP += 1\n",
    "#             positive_sample_num += 1\n",
    "\n",
    "        pred_positive_sample_num += 1\n",
    "        \n",
    "\n",
    "        if label_mask[ind] == 1:\n",
    "            origin_index = index_map_list[ind]\n",
    "            if pred_label[origin_index] == 1:\n",
    "                pred_positive_sample_num -= 1\n",
    "            else:\n",
    "                pred_label[origin_index] = 1\n",
    "                TP += 1\n",
    "\n",
    "        precision = TP/pred_positive_sample_num\n",
    "        recall = TP/positive_sample_num\n",
    "        \n",
    "        if recall != 0 and recall != pr_curve[i,0]:\n",
    "            precision_pts.append([recall,precision])\n",
    "\n",
    "        pr_curve[i+1,0] = recall\n",
    "        pr_curve[i+1,1] = precision\n",
    "    \n",
    "    return pr_curve,np.array(precision_pts)\n"
   ]
  },
  {
   "cell_type": "code",
   "execution_count": 8,
   "metadata": {},
   "outputs": [
    {
     "name": "stderr",
     "output_type": "stream",
     "text": [
      "100%|██████████| 1000/1000 [00:34<00:00, 28.74it/s]\n",
      "100%|██████████| 19200000/19200000 [00:28<00:00, 678642.66it/s]\n"
     ]
    }
   ],
   "source": [
    "pr_curve,precision_pts = mAP_final(test_sample)"
   ]
  },
  {
   "cell_type": "code",
   "execution_count": 9,
   "metadata": {},
   "outputs": [],
   "source": [
    "np.save(\"pr_curve.npy\",pr_curve)\n",
    "np.save(\"precision_pts.npy\",precision_pts)"
   ]
  },
  {
   "cell_type": "code",
   "execution_count": 10,
   "metadata": {},
   "outputs": [
    {
     "data": {
      "image/png": "[encoded data removed]",
      "text/plain": [
       "<Figure size 640x480 with 1 Axes>"
      ]
     },
     "metadata": {},
     "output_type": "display_data"
    }
   ],
   "source": [
    "import matplotlib\n",
    "matplotlib.rcParams['agg.path.chunksize'] = 1920000200000000\n",
    "matplotlib.rcParams.update( matplotlib.rc_params() )\n",
    "plt.plot(pr_curve[:,0],pr_curve[:,1])\n",
    "plt.scatter(precision_pts[:,0],precision_pts[:,1],color='r')\n",
    "plt.show()"
   ]
  },
  {
   "cell_type": "code",
   "execution_count": 11,
   "metadata": {},
   "outputs": [
    {
     "data": {
      "text/plain": [
       "0.8189646193634157"
      ]
     },
     "execution_count": 11,
     "metadata": {},
     "output_type": "execute_result"
    }
   ],
   "source": [
    "np.mean(precision_pts[:,1])"
   ]
  },
  {
   "cell_type": "code",
   "execution_count": null,
   "metadata": {},
   "outputs": [],
   "source": [
    "import numpy as np\n",
    "import cv2\n",
    "from matplotlib import pyplot as plt\n",
    "\n",
    "img = test_data[0]['img']\n",
    "\n",
    "fast=cv2.FastFeatureDetector_create(threshold=20,nonmaxSuppression=True,type=cv2.FAST_FEATURE_DETECTOR_TYPE_9_16)#获取FAST角点探测器\n",
    "\n",
    "\n",
    "kp=fast.detect(img,None)#描述符\n",
    "\n",
    "img = cv2.drawKeypoints(img,kp,img,color=(255,0,0))#画到img上面\n",
    "\n",
    "print (\"Threshold: \", fast.getThreshold())#输出阈值\n",
    "print (\"nonmaxSuppression: \", fast.getNonmaxSuppression())#是否使用非极大值抑制\n",
    "print (\"Total Keypoints with nonmaxSuppression: \", len(kp))#特征点个数\n",
    "\n",
    "plt.imshow(img)"
   ]
  }
 ],
 "metadata": {
  "kernelspec": {
   "display_name": "superpoint",
   "language": "python",
   "name": "superpoint"
  },
  "language_info": {
   "codemirror_mode": {
    "name": "ipython",
    "version": 3
   },
   "file_extension": ".py",
   "mimetype": "text/x-python",
   "name": "python",
   "nbconvert_exporter": "python",
   "pygments_lexer": "ipython3",
   "version": "3.7.3"
  }
 },
 "nbformat": 4,
 "nbformat_minor": 2
}
